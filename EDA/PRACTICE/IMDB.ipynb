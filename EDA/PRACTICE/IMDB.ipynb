{
  "nbformat": 4,
  "nbformat_minor": 0,
  "metadata": {
    "colab": {
      "name": "IMDB.ipynb",
      "provenance": [],
      "collapsed_sections": []
    },
    "kernelspec": {
      "name": "python3",
      "display_name": "Python 3"
    },
    "language_info": {
      "name": "python"
    }
  },
  "cells": [
    {
      "cell_type": "code",
      "metadata": {
        "id": "OBw9j5XcvwGE"
      },
      "source": [
        "import pandas as pd\n",
        "import numpy as np\n",
        "import matplotlib.pyplot as plt\n",
        "import  seaborn as sns"
      ],
      "execution_count": 1,
      "outputs": []
    },
    {
      "cell_type": "code",
      "metadata": {
        "id": "-kkt6EyhxLbj"
      },
      "source": [
        "data = pd.read_csv('/content/imdb_data.csv')"
      ],
      "execution_count": 118,
      "outputs": []
    },
    {
      "cell_type": "code",
      "metadata": {
        "id": "pL9UpVkZxV40"
      },
      "source": [
        "data_copy = data.copy()"
      ],
      "execution_count": 119,
      "outputs": []
    },
    {
      "cell_type": "code",
      "metadata": {
        "colab": {
          "base_uri": "https://localhost:8080/",
          "height": 626
        },
        "id": "z1NdP4JaxSgA",
        "outputId": "6de3e7fd-6a9e-4c97-a881-01b892f56793"
      },
      "source": [
        "data_copy.head()"
      ],
      "execution_count": 120,
      "outputs": [
        {
          "output_type": "execute_result",
          "data": {
            "text/html": [
              "<div>\n",
              "<style scoped>\n",
              "    .dataframe tbody tr th:only-of-type {\n",
              "        vertical-align: middle;\n",
              "    }\n",
              "\n",
              "    .dataframe tbody tr th {\n",
              "        vertical-align: top;\n",
              "    }\n",
              "\n",
              "    .dataframe thead th {\n",
              "        text-align: right;\n",
              "    }\n",
              "</style>\n",
              "<table border=\"1\" class=\"dataframe\">\n",
              "  <thead>\n",
              "    <tr style=\"text-align: right;\">\n",
              "      <th></th>\n",
              "      <th>id</th>\n",
              "      <th>belongs_to_collection</th>\n",
              "      <th>budget</th>\n",
              "      <th>genres</th>\n",
              "      <th>homepage</th>\n",
              "      <th>imdb_id</th>\n",
              "      <th>original_language</th>\n",
              "      <th>original_title</th>\n",
              "      <th>overview</th>\n",
              "      <th>popularity</th>\n",
              "      <th>poster_path</th>\n",
              "      <th>production_companies</th>\n",
              "      <th>production_countries</th>\n",
              "      <th>release_date</th>\n",
              "      <th>runtime</th>\n",
              "      <th>spoken_languages</th>\n",
              "      <th>status</th>\n",
              "      <th>tagline</th>\n",
              "      <th>title</th>\n",
              "      <th>Keywords</th>\n",
              "      <th>cast</th>\n",
              "      <th>crew</th>\n",
              "      <th>revenue</th>\n",
              "    </tr>\n",
              "  </thead>\n",
              "  <tbody>\n",
              "    <tr>\n",
              "      <th>0</th>\n",
              "      <td>1</td>\n",
              "      <td>[{'id': 313576, 'name': 'Hot Tub Time Machine ...</td>\n",
              "      <td>14000000</td>\n",
              "      <td>[{'id': 35, 'name': 'Comedy'}]</td>\n",
              "      <td>NaN</td>\n",
              "      <td>tt2637294</td>\n",
              "      <td>en</td>\n",
              "      <td>Hot Tub Time Machine 2</td>\n",
              "      <td>When Lou, who has become the \"father of the In...</td>\n",
              "      <td>6.575393</td>\n",
              "      <td>/tQtWuwvMf0hCc2QR2tkolwl7c3c.jpg</td>\n",
              "      <td>[{'name': 'Paramount Pictures', 'id': 4}, {'na...</td>\n",
              "      <td>[{'iso_3166_1': 'US', 'name': 'United States o...</td>\n",
              "      <td>2/20/15</td>\n",
              "      <td>93.0</td>\n",
              "      <td>[{'iso_639_1': 'en', 'name': 'English'}]</td>\n",
              "      <td>Released</td>\n",
              "      <td>The Laws of Space and Time are About to be Vio...</td>\n",
              "      <td>Hot Tub Time Machine 2</td>\n",
              "      <td>[{'id': 4379, 'name': 'time travel'}, {'id': 9...</td>\n",
              "      <td>[{'cast_id': 4, 'character': 'Lou', 'credit_id...</td>\n",
              "      <td>[{'credit_id': '59ac067c92514107af02c8c8', 'de...</td>\n",
              "      <td>12314651</td>\n",
              "    </tr>\n",
              "    <tr>\n",
              "      <th>1</th>\n",
              "      <td>2</td>\n",
              "      <td>[{'id': 107674, 'name': 'The Princess Diaries ...</td>\n",
              "      <td>40000000</td>\n",
              "      <td>[{'id': 35, 'name': 'Comedy'}, {'id': 18, 'nam...</td>\n",
              "      <td>NaN</td>\n",
              "      <td>tt0368933</td>\n",
              "      <td>en</td>\n",
              "      <td>The Princess Diaries 2: Royal Engagement</td>\n",
              "      <td>Mia Thermopolis is now a college graduate and ...</td>\n",
              "      <td>8.248895</td>\n",
              "      <td>/w9Z7A0GHEhIp7etpj0vyKOeU1Wx.jpg</td>\n",
              "      <td>[{'name': 'Walt Disney Pictures', 'id': 2}]</td>\n",
              "      <td>[{'iso_3166_1': 'US', 'name': 'United States o...</td>\n",
              "      <td>8/6/04</td>\n",
              "      <td>113.0</td>\n",
              "      <td>[{'iso_639_1': 'en', 'name': 'English'}]</td>\n",
              "      <td>Released</td>\n",
              "      <td>It can take a lifetime to find true love; she'...</td>\n",
              "      <td>The Princess Diaries 2: Royal Engagement</td>\n",
              "      <td>[{'id': 2505, 'name': 'coronation'}, {'id': 42...</td>\n",
              "      <td>[{'cast_id': 1, 'character': 'Mia Thermopolis'...</td>\n",
              "      <td>[{'credit_id': '52fe43fe9251416c7502563d', 'de...</td>\n",
              "      <td>95149435</td>\n",
              "    </tr>\n",
              "    <tr>\n",
              "      <th>2</th>\n",
              "      <td>3</td>\n",
              "      <td>NaN</td>\n",
              "      <td>3300000</td>\n",
              "      <td>[{'id': 18, 'name': 'Drama'}]</td>\n",
              "      <td>http://sonyclassics.com/whiplash/</td>\n",
              "      <td>tt2582802</td>\n",
              "      <td>en</td>\n",
              "      <td>Whiplash</td>\n",
              "      <td>Under the direction of a ruthless instructor, ...</td>\n",
              "      <td>64.299990</td>\n",
              "      <td>/lIv1QinFqz4dlp5U4lQ6HaiskOZ.jpg</td>\n",
              "      <td>[{'name': 'Bold Films', 'id': 2266}, {'name': ...</td>\n",
              "      <td>[{'iso_3166_1': 'US', 'name': 'United States o...</td>\n",
              "      <td>10/10/14</td>\n",
              "      <td>105.0</td>\n",
              "      <td>[{'iso_639_1': 'en', 'name': 'English'}]</td>\n",
              "      <td>Released</td>\n",
              "      <td>The road to greatness can take you to the edge.</td>\n",
              "      <td>Whiplash</td>\n",
              "      <td>[{'id': 1416, 'name': 'jazz'}, {'id': 1523, 'n...</td>\n",
              "      <td>[{'cast_id': 5, 'character': 'Andrew Neimann',...</td>\n",
              "      <td>[{'credit_id': '54d5356ec3a3683ba0000039', 'de...</td>\n",
              "      <td>13092000</td>\n",
              "    </tr>\n",
              "    <tr>\n",
              "      <th>3</th>\n",
              "      <td>4</td>\n",
              "      <td>NaN</td>\n",
              "      <td>1200000</td>\n",
              "      <td>[{'id': 53, 'name': 'Thriller'}, {'id': 18, 'n...</td>\n",
              "      <td>http://kahaanithefilm.com/</td>\n",
              "      <td>tt1821480</td>\n",
              "      <td>hi</td>\n",
              "      <td>Kahaani</td>\n",
              "      <td>Vidya Bagchi (Vidya Balan) arrives in Kolkata ...</td>\n",
              "      <td>3.174936</td>\n",
              "      <td>/aTXRaPrWSinhcmCrcfJK17urp3F.jpg</td>\n",
              "      <td>NaN</td>\n",
              "      <td>[{'iso_3166_1': 'IN', 'name': 'India'}]</td>\n",
              "      <td>3/9/12</td>\n",
              "      <td>122.0</td>\n",
              "      <td>[{'iso_639_1': 'en', 'name': 'English'}, {'iso...</td>\n",
              "      <td>Released</td>\n",
              "      <td>NaN</td>\n",
              "      <td>Kahaani</td>\n",
              "      <td>[{'id': 10092, 'name': 'mystery'}, {'id': 1054...</td>\n",
              "      <td>[{'cast_id': 1, 'character': 'Vidya Bagchi', '...</td>\n",
              "      <td>[{'credit_id': '52fe48779251416c9108d6eb', 'de...</td>\n",
              "      <td>16000000</td>\n",
              "    </tr>\n",
              "    <tr>\n",
              "      <th>4</th>\n",
              "      <td>5</td>\n",
              "      <td>NaN</td>\n",
              "      <td>0</td>\n",
              "      <td>[{'id': 28, 'name': 'Action'}, {'id': 53, 'nam...</td>\n",
              "      <td>NaN</td>\n",
              "      <td>tt1380152</td>\n",
              "      <td>ko</td>\n",
              "      <td>마린보이</td>\n",
              "      <td>Marine Boy is the story of a former national s...</td>\n",
              "      <td>1.148070</td>\n",
              "      <td>/m22s7zvkVFDU9ir56PiiqIEWFdT.jpg</td>\n",
              "      <td>NaN</td>\n",
              "      <td>[{'iso_3166_1': 'KR', 'name': 'South Korea'}]</td>\n",
              "      <td>2/5/09</td>\n",
              "      <td>118.0</td>\n",
              "      <td>[{'iso_639_1': 'ko', 'name': '한국어/조선말'}]</td>\n",
              "      <td>Released</td>\n",
              "      <td>NaN</td>\n",
              "      <td>Marine Boy</td>\n",
              "      <td>NaN</td>\n",
              "      <td>[{'cast_id': 3, 'character': 'Chun-soo', 'cred...</td>\n",
              "      <td>[{'credit_id': '52fe464b9251416c75073b43', 'de...</td>\n",
              "      <td>3923970</td>\n",
              "    </tr>\n",
              "  </tbody>\n",
              "</table>\n",
              "</div>"
            ],
            "text/plain": [
              "   id  ...   revenue\n",
              "0   1  ...  12314651\n",
              "1   2  ...  95149435\n",
              "2   3  ...  13092000\n",
              "3   4  ...  16000000\n",
              "4   5  ...   3923970\n",
              "\n",
              "[5 rows x 23 columns]"
            ]
          },
          "metadata": {},
          "execution_count": 120
        }
      ]
    },
    {
      "cell_type": "code",
      "metadata": {
        "colab": {
          "base_uri": "https://localhost:8080/"
        },
        "id": "kQirhuEC0Vqe",
        "outputId": "1cab1720-41e5-4398-dbab-7adf693b3b41"
      },
      "source": [
        "data.info()"
      ],
      "execution_count": 34,
      "outputs": [
        {
          "output_type": "stream",
          "text": [
            "<class 'pandas.core.frame.DataFrame'>\n",
            "RangeIndex: 3000 entries, 0 to 2999\n",
            "Data columns (total 23 columns):\n",
            " #   Column                 Non-Null Count  Dtype  \n",
            "---  ------                 --------------  -----  \n",
            " 0   id                     3000 non-null   int64  \n",
            " 1   belongs_to_collection  604 non-null    object \n",
            " 2   budget                 3000 non-null   int64  \n",
            " 3   genres                 2993 non-null   object \n",
            " 4   homepage               946 non-null    object \n",
            " 5   imdb_id                3000 non-null   object \n",
            " 6   original_language      3000 non-null   object \n",
            " 7   original_title         3000 non-null   object \n",
            " 8   overview               2992 non-null   object \n",
            " 9   popularity             3000 non-null   float64\n",
            " 10  poster_path            2999 non-null   object \n",
            " 11  production_companies   2844 non-null   object \n",
            " 12  production_countries   2945 non-null   object \n",
            " 13  release_date           3000 non-null   object \n",
            " 14  runtime                2998 non-null   float64\n",
            " 15  spoken_languages       2980 non-null   object \n",
            " 16  status                 3000 non-null   object \n",
            " 17  tagline                2403 non-null   object \n",
            " 18  title                  3000 non-null   object \n",
            " 19  Keywords               2724 non-null   object \n",
            " 20  cast                   2987 non-null   object \n",
            " 21  crew                   2984 non-null   object \n",
            " 22  revenue                3000 non-null   int64  \n",
            "dtypes: float64(2), int64(3), object(18)\n",
            "memory usage: 539.2+ KB\n"
          ],
          "name": "stdout"
        }
      ]
    },
    {
      "cell_type": "code",
      "metadata": {
        "colab": {
          "base_uri": "https://localhost:8080/"
        },
        "id": "56mdoPn30lvl",
        "outputId": "27c9b9c2-0502-4970-b813-fb26743db09b"
      },
      "source": [
        "data.columns"
      ],
      "execution_count": 35,
      "outputs": [
        {
          "output_type": "execute_result",
          "data": {
            "text/plain": [
              "Index(['id', 'belongs_to_collection', 'budget', 'genres', 'homepage',\n",
              "       'imdb_id', 'original_language', 'original_title', 'overview',\n",
              "       'popularity', 'poster_path', 'production_companies',\n",
              "       'production_countries', 'release_date', 'runtime', 'spoken_languages',\n",
              "       'status', 'tagline', 'title', 'Keywords', 'cast', 'crew', 'revenue'],\n",
              "      dtype='object')"
            ]
          },
          "metadata": {},
          "execution_count": 35
        }
      ]
    },
    {
      "cell_type": "markdown",
      "metadata": {
        "id": "xr6cyrpX0vzO"
      },
      "source": [
        "<h1>Task to DO"
      ]
    },
    {
      "cell_type": "markdown",
      "metadata": {
        "id": "IxRA_2tf0tvV"
      },
      "source": [
        "## You have been hired by a rookie movie producer to help him decide what type of movies to produce and which actors to cast. You have to back your recommendations based on thorough analysis of the data he shared with you which has the list of 3000 movies and the corresponding details.\n",
        "\n",
        "## As a data scientist, you have to first explore the data and check its sanity.\n",
        "\n",
        "## Further, you have to answer the following questions:\n",
        "1. ### <b> Which movie made the highest profit? Who were its producer and director? Identify the actors in that film.</b>\n",
        "2. ### <b>This data has information about movies made in different languages. Which language has the highest average ROI (return on investment)? </b>\n",
        "3. ### <b> Find out the unique genres of movies in this dataset.</b>\n",
        "4. ### <b> Make a table of all the producers and directors of each movie. Find the top 3 producers who have produced movies with the highest average RoI? </b>\n",
        "5. ### <b> Which actor has acted in the most number of movies? Deep dive into the movies, genres and profits corresponding to this actor. </b>\n",
        "6. ### <b>Top 3 directors prefer which actors the most? </b>\n",
        "\n"
      ]
    },
    {
      "cell_type": "code",
      "metadata": {
        "colab": {
          "base_uri": "https://localhost:8080/"
        },
        "id": "5cvccjxh1VaF",
        "outputId": "808fe21e-10f4-46f5-b166-675f56dbf0a9"
      },
      "source": [
        "data.columns"
      ],
      "execution_count": 121,
      "outputs": [
        {
          "output_type": "execute_result",
          "data": {
            "text/plain": [
              "Index(['id', 'belongs_to_collection', 'budget', 'genres', 'homepage',\n",
              "       'imdb_id', 'original_language', 'original_title', 'overview',\n",
              "       'popularity', 'poster_path', 'production_companies',\n",
              "       'production_countries', 'release_date', 'runtime', 'spoken_languages',\n",
              "       'status', 'tagline', 'title', 'Keywords', 'cast', 'crew', 'revenue'],\n",
              "      dtype='object')"
            ]
          },
          "metadata": {},
          "execution_count": 121
        }
      ]
    },
    {
      "cell_type": "code",
      "metadata": {
        "id": "pKWx8x_a02as"
      },
      "source": [
        "# Based on the requirments given, all the columns are not that important\n",
        "# We will only be filtering out the columns which are importatnt for our analysis.\n",
        "\n",
        "req_col = ['id','budget','genres','original_language', 'original_title','popularity','production_companies','cast','crew', 'revenue']"
      ],
      "execution_count": 122,
      "outputs": []
    },
    {
      "cell_type": "code",
      "metadata": {
        "id": "pLOx9TQFx9kl"
      },
      "source": [
        "data_copy = data_copy[req_col]"
      ],
      "execution_count": 123,
      "outputs": []
    },
    {
      "cell_type": "code",
      "metadata": {
        "colab": {
          "base_uri": "https://localhost:8080/",
          "height": 321
        },
        "id": "OA3j7-RtyQ7N",
        "outputId": "198a5900-bd3a-41b9-b4eb-b2845bb6917a"
      },
      "source": [
        "data_copy.head()"
      ],
      "execution_count": 124,
      "outputs": [
        {
          "output_type": "execute_result",
          "data": {
            "text/html": [
              "<div>\n",
              "<style scoped>\n",
              "    .dataframe tbody tr th:only-of-type {\n",
              "        vertical-align: middle;\n",
              "    }\n",
              "\n",
              "    .dataframe tbody tr th {\n",
              "        vertical-align: top;\n",
              "    }\n",
              "\n",
              "    .dataframe thead th {\n",
              "        text-align: right;\n",
              "    }\n",
              "</style>\n",
              "<table border=\"1\" class=\"dataframe\">\n",
              "  <thead>\n",
              "    <tr style=\"text-align: right;\">\n",
              "      <th></th>\n",
              "      <th>id</th>\n",
              "      <th>budget</th>\n",
              "      <th>genres</th>\n",
              "      <th>original_language</th>\n",
              "      <th>original_title</th>\n",
              "      <th>popularity</th>\n",
              "      <th>production_companies</th>\n",
              "      <th>cast</th>\n",
              "      <th>crew</th>\n",
              "      <th>revenue</th>\n",
              "    </tr>\n",
              "  </thead>\n",
              "  <tbody>\n",
              "    <tr>\n",
              "      <th>0</th>\n",
              "      <td>1</td>\n",
              "      <td>14000000</td>\n",
              "      <td>[{'id': 35, 'name': 'Comedy'}]</td>\n",
              "      <td>en</td>\n",
              "      <td>Hot Tub Time Machine 2</td>\n",
              "      <td>6.575393</td>\n",
              "      <td>[{'name': 'Paramount Pictures', 'id': 4}, {'na...</td>\n",
              "      <td>[{'cast_id': 4, 'character': 'Lou', 'credit_id...</td>\n",
              "      <td>[{'credit_id': '59ac067c92514107af02c8c8', 'de...</td>\n",
              "      <td>12314651</td>\n",
              "    </tr>\n",
              "    <tr>\n",
              "      <th>1</th>\n",
              "      <td>2</td>\n",
              "      <td>40000000</td>\n",
              "      <td>[{'id': 35, 'name': 'Comedy'}, {'id': 18, 'nam...</td>\n",
              "      <td>en</td>\n",
              "      <td>The Princess Diaries 2: Royal Engagement</td>\n",
              "      <td>8.248895</td>\n",
              "      <td>[{'name': 'Walt Disney Pictures', 'id': 2}]</td>\n",
              "      <td>[{'cast_id': 1, 'character': 'Mia Thermopolis'...</td>\n",
              "      <td>[{'credit_id': '52fe43fe9251416c7502563d', 'de...</td>\n",
              "      <td>95149435</td>\n",
              "    </tr>\n",
              "    <tr>\n",
              "      <th>2</th>\n",
              "      <td>3</td>\n",
              "      <td>3300000</td>\n",
              "      <td>[{'id': 18, 'name': 'Drama'}]</td>\n",
              "      <td>en</td>\n",
              "      <td>Whiplash</td>\n",
              "      <td>64.299990</td>\n",
              "      <td>[{'name': 'Bold Films', 'id': 2266}, {'name': ...</td>\n",
              "      <td>[{'cast_id': 5, 'character': 'Andrew Neimann',...</td>\n",
              "      <td>[{'credit_id': '54d5356ec3a3683ba0000039', 'de...</td>\n",
              "      <td>13092000</td>\n",
              "    </tr>\n",
              "    <tr>\n",
              "      <th>3</th>\n",
              "      <td>4</td>\n",
              "      <td>1200000</td>\n",
              "      <td>[{'id': 53, 'name': 'Thriller'}, {'id': 18, 'n...</td>\n",
              "      <td>hi</td>\n",
              "      <td>Kahaani</td>\n",
              "      <td>3.174936</td>\n",
              "      <td>NaN</td>\n",
              "      <td>[{'cast_id': 1, 'character': 'Vidya Bagchi', '...</td>\n",
              "      <td>[{'credit_id': '52fe48779251416c9108d6eb', 'de...</td>\n",
              "      <td>16000000</td>\n",
              "    </tr>\n",
              "    <tr>\n",
              "      <th>4</th>\n",
              "      <td>5</td>\n",
              "      <td>0</td>\n",
              "      <td>[{'id': 28, 'name': 'Action'}, {'id': 53, 'nam...</td>\n",
              "      <td>ko</td>\n",
              "      <td>마린보이</td>\n",
              "      <td>1.148070</td>\n",
              "      <td>NaN</td>\n",
              "      <td>[{'cast_id': 3, 'character': 'Chun-soo', 'cred...</td>\n",
              "      <td>[{'credit_id': '52fe464b9251416c75073b43', 'de...</td>\n",
              "      <td>3923970</td>\n",
              "    </tr>\n",
              "  </tbody>\n",
              "</table>\n",
              "</div>"
            ],
            "text/plain": [
              "   id    budget  ...                                               crew   revenue\n",
              "0   1  14000000  ...  [{'credit_id': '59ac067c92514107af02c8c8', 'de...  12314651\n",
              "1   2  40000000  ...  [{'credit_id': '52fe43fe9251416c7502563d', 'de...  95149435\n",
              "2   3   3300000  ...  [{'credit_id': '54d5356ec3a3683ba0000039', 'de...  13092000\n",
              "3   4   1200000  ...  [{'credit_id': '52fe48779251416c9108d6eb', 'de...  16000000\n",
              "4   5         0  ...  [{'credit_id': '52fe464b9251416c75073b43', 'de...   3923970\n",
              "\n",
              "[5 rows x 10 columns]"
            ]
          },
          "metadata": {},
          "execution_count": 124
        }
      ]
    },
    {
      "cell_type": "code",
      "metadata": {
        "colab": {
          "base_uri": "https://localhost:8080/"
        },
        "id": "uIFX9mS_yV7c",
        "outputId": "46855348-352d-43fc-d4d4-86d4c2bdf660"
      },
      "source": [
        "data_copy.isna().sum()"
      ],
      "execution_count": 125,
      "outputs": [
        {
          "output_type": "execute_result",
          "data": {
            "text/plain": [
              "id                        0\n",
              "budget                    0\n",
              "genres                    7\n",
              "original_language         0\n",
              "original_title            0\n",
              "popularity                0\n",
              "production_companies    156\n",
              "cast                     13\n",
              "crew                     16\n",
              "revenue                   0\n",
              "dtype: int64"
            ]
          },
          "metadata": {},
          "execution_count": 125
        }
      ]
    },
    {
      "cell_type": "code",
      "metadata": {
        "id": "_b6CutZf4eoW"
      },
      "source": [
        "def convert_to_list(s):\n",
        "  return eval(s)"
      ],
      "execution_count": 126,
      "outputs": []
    },
    {
      "cell_type": "code",
      "metadata": {
        "id": "dwdm1IHL19yL"
      },
      "source": [
        "data_copy.loc[~data_copy['genres'].isna(),'genres'] = data_copy.loc[~data_copy['genres'].isna(),'genres'].apply(convert_to_list)"
      ],
      "execution_count": 127,
      "outputs": []
    },
    {
      "cell_type": "code",
      "metadata": {
        "id": "KNs41I7t4Y-X"
      },
      "source": [
        "data_copy.loc[~data_copy['cast'].isna(),'cast'] = data_copy.loc[~data_copy['cast'].isna(),'cast'].apply(convert_to_list)"
      ],
      "execution_count": 128,
      "outputs": []
    },
    {
      "cell_type": "code",
      "metadata": {
        "id": "t4lCBQFR4Z0J"
      },
      "source": [
        "data_copy.loc[~data_copy['crew'].isna(),'crew'] = data_copy.loc[~data_copy['crew'].isna(),'crew'].apply(convert_to_list)"
      ],
      "execution_count": 129,
      "outputs": []
    },
    {
      "cell_type": "code",
      "metadata": {
        "colab": {
          "base_uri": "https://localhost:8080/"
        },
        "id": "QzepgKwx5wRp",
        "outputId": "97f7cf50-24cd-445d-bade-00c3106a9557"
      },
      "source": [
        "data_copy['genres'].dtype == 'object'"
      ],
      "execution_count": 130,
      "outputs": [
        {
          "output_type": "execute_result",
          "data": {
            "text/plain": [
              "True"
            ]
          },
          "metadata": {},
          "execution_count": 130
        }
      ]
    },
    {
      "cell_type": "code",
      "metadata": {
        "colab": {
          "base_uri": "https://localhost:8080/",
          "height": 295
        },
        "id": "UGoFDZuT5yRh",
        "outputId": "941be67d-fbf7-4d5a-efed-af606f8eac8f"
      },
      "source": [
        "data_copy.describe()"
      ],
      "execution_count": 131,
      "outputs": [
        {
          "output_type": "execute_result",
          "data": {
            "text/html": [
              "<div>\n",
              "<style scoped>\n",
              "    .dataframe tbody tr th:only-of-type {\n",
              "        vertical-align: middle;\n",
              "    }\n",
              "\n",
              "    .dataframe tbody tr th {\n",
              "        vertical-align: top;\n",
              "    }\n",
              "\n",
              "    .dataframe thead th {\n",
              "        text-align: right;\n",
              "    }\n",
              "</style>\n",
              "<table border=\"1\" class=\"dataframe\">\n",
              "  <thead>\n",
              "    <tr style=\"text-align: right;\">\n",
              "      <th></th>\n",
              "      <th>id</th>\n",
              "      <th>budget</th>\n",
              "      <th>popularity</th>\n",
              "      <th>revenue</th>\n",
              "    </tr>\n",
              "  </thead>\n",
              "  <tbody>\n",
              "    <tr>\n",
              "      <th>count</th>\n",
              "      <td>3000.000000</td>\n",
              "      <td>3.000000e+03</td>\n",
              "      <td>3000.000000</td>\n",
              "      <td>3.000000e+03</td>\n",
              "    </tr>\n",
              "    <tr>\n",
              "      <th>mean</th>\n",
              "      <td>1500.500000</td>\n",
              "      <td>2.253133e+07</td>\n",
              "      <td>8.463274</td>\n",
              "      <td>6.672585e+07</td>\n",
              "    </tr>\n",
              "    <tr>\n",
              "      <th>std</th>\n",
              "      <td>866.169729</td>\n",
              "      <td>3.702609e+07</td>\n",
              "      <td>12.104000</td>\n",
              "      <td>1.375323e+08</td>\n",
              "    </tr>\n",
              "    <tr>\n",
              "      <th>min</th>\n",
              "      <td>1.000000</td>\n",
              "      <td>0.000000e+00</td>\n",
              "      <td>0.000001</td>\n",
              "      <td>1.000000e+00</td>\n",
              "    </tr>\n",
              "    <tr>\n",
              "      <th>25%</th>\n",
              "      <td>750.750000</td>\n",
              "      <td>0.000000e+00</td>\n",
              "      <td>4.018053</td>\n",
              "      <td>2.379808e+06</td>\n",
              "    </tr>\n",
              "    <tr>\n",
              "      <th>50%</th>\n",
              "      <td>1500.500000</td>\n",
              "      <td>8.000000e+06</td>\n",
              "      <td>7.374861</td>\n",
              "      <td>1.680707e+07</td>\n",
              "    </tr>\n",
              "    <tr>\n",
              "      <th>75%</th>\n",
              "      <td>2250.250000</td>\n",
              "      <td>2.900000e+07</td>\n",
              "      <td>10.890983</td>\n",
              "      <td>6.891920e+07</td>\n",
              "    </tr>\n",
              "    <tr>\n",
              "      <th>max</th>\n",
              "      <td>3000.000000</td>\n",
              "      <td>3.800000e+08</td>\n",
              "      <td>294.337037</td>\n",
              "      <td>1.519558e+09</td>\n",
              "    </tr>\n",
              "  </tbody>\n",
              "</table>\n",
              "</div>"
            ],
            "text/plain": [
              "                id        budget   popularity       revenue\n",
              "count  3000.000000  3.000000e+03  3000.000000  3.000000e+03\n",
              "mean   1500.500000  2.253133e+07     8.463274  6.672585e+07\n",
              "std     866.169729  3.702609e+07    12.104000  1.375323e+08\n",
              "min       1.000000  0.000000e+00     0.000001  1.000000e+00\n",
              "25%     750.750000  0.000000e+00     4.018053  2.379808e+06\n",
              "50%    1500.500000  8.000000e+06     7.374861  1.680707e+07\n",
              "75%    2250.250000  2.900000e+07    10.890983  6.891920e+07\n",
              "max    3000.000000  3.800000e+08   294.337037  1.519558e+09"
            ]
          },
          "metadata": {},
          "execution_count": 131
        }
      ]
    },
    {
      "cell_type": "markdown",
      "metadata": {
        "id": "nnrDZRUAAsa2"
      },
      "source": [
        "1. We can see in the descriptive statistics that min(budget)=0.00, which is not possible. So wherever the data was not available the 0.00 has been fed.<br>\n",
        "2. Just check, if the difference between the mean nad median(50%) of the column is big than we can conclude that the column has outliers.<br>\n",
        "3. replacing the 0.00 values in budget with the median. As we can clearly see that budget has outliers, in case ofcolumn having outliers we can only replace the missing data with median."
      ]
    },
    {
      "cell_type": "code",
      "metadata": {
        "id": "6BXSIgKCAqpe"
      },
      "source": [
        "data_copy['budget'][data_copy['budget']<1000] = data_copy['budget'].median()\n"
      ],
      "execution_count": null,
      "outputs": []
    },
    {
      "cell_type": "code",
      "metadata": {
        "colab": {
          "base_uri": "https://localhost:8080/"
        },
        "id": "3HK-tBItCbAo",
        "outputId": "7beb3b72-ecf7-49e5-aa3b-15603a9d977f"
      },
      "source": [
        "data_copy['budget'].median()"
      ],
      "execution_count": 133,
      "outputs": [
        {
          "output_type": "execute_result",
          "data": {
            "text/plain": [
              "8000000.0"
            ]
          },
          "metadata": {},
          "execution_count": 133
        }
      ]
    },
    {
      "cell_type": "code",
      "metadata": {
        "colab": {
          "base_uri": "https://localhost:8080/",
          "height": 295
        },
        "id": "syVbCWkZCLsr",
        "outputId": "caf21aac-28c9-469c-d268-fc8f1834354e"
      },
      "source": [
        "data_copy.describe()"
      ],
      "execution_count": 134,
      "outputs": [
        {
          "output_type": "execute_result",
          "data": {
            "text/html": [
              "<div>\n",
              "<style scoped>\n",
              "    .dataframe tbody tr th:only-of-type {\n",
              "        vertical-align: middle;\n",
              "    }\n",
              "\n",
              "    .dataframe tbody tr th {\n",
              "        vertical-align: top;\n",
              "    }\n",
              "\n",
              "    .dataframe thead th {\n",
              "        text-align: right;\n",
              "    }\n",
              "</style>\n",
              "<table border=\"1\" class=\"dataframe\">\n",
              "  <thead>\n",
              "    <tr style=\"text-align: right;\">\n",
              "      <th></th>\n",
              "      <th>id</th>\n",
              "      <th>budget</th>\n",
              "      <th>popularity</th>\n",
              "      <th>revenue</th>\n",
              "    </tr>\n",
              "  </thead>\n",
              "  <tbody>\n",
              "    <tr>\n",
              "      <th>count</th>\n",
              "      <td>3000.000000</td>\n",
              "      <td>3.000000e+03</td>\n",
              "      <td>3000.000000</td>\n",
              "      <td>3.000000e+03</td>\n",
              "    </tr>\n",
              "    <tr>\n",
              "      <th>mean</th>\n",
              "      <td>1500.500000</td>\n",
              "      <td>2.474467e+07</td>\n",
              "      <td>8.463274</td>\n",
              "      <td>6.672585e+07</td>\n",
              "    </tr>\n",
              "    <tr>\n",
              "      <th>std</th>\n",
              "      <td>866.169729</td>\n",
              "      <td>3.583254e+07</td>\n",
              "      <td>12.104000</td>\n",
              "      <td>1.375323e+08</td>\n",
              "    </tr>\n",
              "    <tr>\n",
              "      <th>min</th>\n",
              "      <td>1.000000</td>\n",
              "      <td>2.500000e+03</td>\n",
              "      <td>0.000001</td>\n",
              "      <td>1.000000e+00</td>\n",
              "    </tr>\n",
              "    <tr>\n",
              "      <th>25%</th>\n",
              "      <td>750.750000</td>\n",
              "      <td>8.000000e+06</td>\n",
              "      <td>4.018053</td>\n",
              "      <td>2.379808e+06</td>\n",
              "    </tr>\n",
              "    <tr>\n",
              "      <th>50%</th>\n",
              "      <td>1500.500000</td>\n",
              "      <td>8.000000e+06</td>\n",
              "      <td>7.374861</td>\n",
              "      <td>1.680707e+07</td>\n",
              "    </tr>\n",
              "    <tr>\n",
              "      <th>75%</th>\n",
              "      <td>2250.250000</td>\n",
              "      <td>2.900000e+07</td>\n",
              "      <td>10.890983</td>\n",
              "      <td>6.891920e+07</td>\n",
              "    </tr>\n",
              "    <tr>\n",
              "      <th>max</th>\n",
              "      <td>3000.000000</td>\n",
              "      <td>3.800000e+08</td>\n",
              "      <td>294.337037</td>\n",
              "      <td>1.519558e+09</td>\n",
              "    </tr>\n",
              "  </tbody>\n",
              "</table>\n",
              "</div>"
            ],
            "text/plain": [
              "                id        budget   popularity       revenue\n",
              "count  3000.000000  3.000000e+03  3000.000000  3.000000e+03\n",
              "mean   1500.500000  2.474467e+07     8.463274  6.672585e+07\n",
              "std     866.169729  3.583254e+07    12.104000  1.375323e+08\n",
              "min       1.000000  2.500000e+03     0.000001  1.000000e+00\n",
              "25%     750.750000  8.000000e+06     4.018053  2.379808e+06\n",
              "50%    1500.500000  8.000000e+06     7.374861  1.680707e+07\n",
              "75%    2250.250000  2.900000e+07    10.890983  6.891920e+07\n",
              "max    3000.000000  3.800000e+08   294.337037  1.519558e+09"
            ]
          },
          "metadata": {},
          "execution_count": 134
        }
      ]
    },
    {
      "cell_type": "code",
      "metadata": {
        "id": "Vqv5w1pCCObd"
      },
      "source": [
        ""
      ],
      "execution_count": null,
      "outputs": []
    },
    {
      "cell_type": "markdown",
      "metadata": {
        "id": "dNEBoMPvCuOl"
      },
      "source": [
        "1. ### <b> Which movie made the highest profit? Who were its producer and director? Identify the actors in that film.</b>"
      ]
    },
    {
      "cell_type": "code",
      "metadata": {
        "id": "dcju9x3MCu0B"
      },
      "source": [
        "data_copy['profit'] = data_copy['revenue'] - data_copy['budget']\n",
        "data_copy['roi'] = data_copy['profit'] * 100 / data_copy['budget']"
      ],
      "execution_count": 135,
      "outputs": []
    },
    {
      "cell_type": "code",
      "metadata": {
        "colab": {
          "base_uri": "https://localhost:8080/",
          "height": 259
        },
        "id": "8NajjOC9DEkt",
        "outputId": "3a815be7-9f5a-4946-f3dc-401db0f008b8"
      },
      "source": [
        "data_copy.head(3)"
      ],
      "execution_count": 136,
      "outputs": [
        {
          "output_type": "execute_result",
          "data": {
            "text/html": [
              "<div>\n",
              "<style scoped>\n",
              "    .dataframe tbody tr th:only-of-type {\n",
              "        vertical-align: middle;\n",
              "    }\n",
              "\n",
              "    .dataframe tbody tr th {\n",
              "        vertical-align: top;\n",
              "    }\n",
              "\n",
              "    .dataframe thead th {\n",
              "        text-align: right;\n",
              "    }\n",
              "</style>\n",
              "<table border=\"1\" class=\"dataframe\">\n",
              "  <thead>\n",
              "    <tr style=\"text-align: right;\">\n",
              "      <th></th>\n",
              "      <th>id</th>\n",
              "      <th>budget</th>\n",
              "      <th>genres</th>\n",
              "      <th>original_language</th>\n",
              "      <th>original_title</th>\n",
              "      <th>popularity</th>\n",
              "      <th>production_companies</th>\n",
              "      <th>cast</th>\n",
              "      <th>crew</th>\n",
              "      <th>revenue</th>\n",
              "      <th>profit</th>\n",
              "      <th>roi</th>\n",
              "    </tr>\n",
              "  </thead>\n",
              "  <tbody>\n",
              "    <tr>\n",
              "      <th>0</th>\n",
              "      <td>1</td>\n",
              "      <td>14000000</td>\n",
              "      <td>[{'id': 35, 'name': 'Comedy'}]</td>\n",
              "      <td>en</td>\n",
              "      <td>Hot Tub Time Machine 2</td>\n",
              "      <td>6.575393</td>\n",
              "      <td>[{'name': 'Paramount Pictures', 'id': 4}, {'na...</td>\n",
              "      <td>[{'cast_id': 4, 'character': 'Lou', 'credit_id...</td>\n",
              "      <td>[{'credit_id': '59ac067c92514107af02c8c8', 'de...</td>\n",
              "      <td>12314651</td>\n",
              "      <td>-1685349</td>\n",
              "      <td>-12.038207</td>\n",
              "    </tr>\n",
              "    <tr>\n",
              "      <th>1</th>\n",
              "      <td>2</td>\n",
              "      <td>40000000</td>\n",
              "      <td>[{'id': 35, 'name': 'Comedy'}, {'id': 18, 'nam...</td>\n",
              "      <td>en</td>\n",
              "      <td>The Princess Diaries 2: Royal Engagement</td>\n",
              "      <td>8.248895</td>\n",
              "      <td>[{'name': 'Walt Disney Pictures', 'id': 2}]</td>\n",
              "      <td>[{'cast_id': 1, 'character': 'Mia Thermopolis'...</td>\n",
              "      <td>[{'credit_id': '52fe43fe9251416c7502563d', 'de...</td>\n",
              "      <td>95149435</td>\n",
              "      <td>55149435</td>\n",
              "      <td>137.873588</td>\n",
              "    </tr>\n",
              "    <tr>\n",
              "      <th>2</th>\n",
              "      <td>3</td>\n",
              "      <td>3300000</td>\n",
              "      <td>[{'id': 18, 'name': 'Drama'}]</td>\n",
              "      <td>en</td>\n",
              "      <td>Whiplash</td>\n",
              "      <td>64.299990</td>\n",
              "      <td>[{'name': 'Bold Films', 'id': 2266}, {'name': ...</td>\n",
              "      <td>[{'cast_id': 5, 'character': 'Andrew Neimann',...</td>\n",
              "      <td>[{'credit_id': '54d5356ec3a3683ba0000039', 'de...</td>\n",
              "      <td>13092000</td>\n",
              "      <td>9792000</td>\n",
              "      <td>296.727273</td>\n",
              "    </tr>\n",
              "  </tbody>\n",
              "</table>\n",
              "</div>"
            ],
            "text/plain": [
              "   id    budget  ...    profit         roi\n",
              "0   1  14000000  ...  -1685349  -12.038207\n",
              "1   2  40000000  ...  55149435  137.873588\n",
              "2   3   3300000  ...   9792000  296.727273\n",
              "\n",
              "[3 rows x 12 columns]"
            ]
          },
          "metadata": {},
          "execution_count": 136
        }
      ]
    },
    {
      "cell_type": "code",
      "metadata": {
        "id": "JBsEVGkRDHP3"
      },
      "source": [
        "max_profit_indx = data_copy['profit'].idxmax()"
      ],
      "execution_count": 137,
      "outputs": []
    },
    {
      "cell_type": "code",
      "metadata": {
        "id": "X7ZIL--WF6BA"
      },
      "source": [
        "data_copy.dropna(inplace=True)"
      ],
      "execution_count": 138,
      "outputs": []
    },
    {
      "cell_type": "code",
      "metadata": {
        "colab": {
          "base_uri": "https://localhost:8080/"
        },
        "id": "Eqio3C9YGCi9",
        "outputId": "b3e8c3f9-c5f7-4a47-a64f-6799133044f9"
      },
      "source": [
        "data_copy.info()"
      ],
      "execution_count": 139,
      "outputs": [
        {
          "output_type": "stream",
          "text": [
            "<class 'pandas.core.frame.DataFrame'>\n",
            "Int64Index: 2829 entries, 0 to 2999\n",
            "Data columns (total 12 columns):\n",
            " #   Column                Non-Null Count  Dtype  \n",
            "---  ------                --------------  -----  \n",
            " 0   id                    2829 non-null   int64  \n",
            " 1   budget                2829 non-null   int64  \n",
            " 2   genres                2829 non-null   object \n",
            " 3   original_language     2829 non-null   object \n",
            " 4   original_title        2829 non-null   object \n",
            " 5   popularity            2829 non-null   float64\n",
            " 6   production_companies  2829 non-null   object \n",
            " 7   cast                  2829 non-null   object \n",
            " 8   crew                  2829 non-null   object \n",
            " 9   revenue               2829 non-null   int64  \n",
            " 10  profit                2829 non-null   int64  \n",
            " 11  roi                   2829 non-null   float64\n",
            "dtypes: float64(2), int64(4), object(6)\n",
            "memory usage: 287.3+ KB\n"
          ],
          "name": "stdout"
        }
      ]
    },
    {
      "cell_type": "code",
      "metadata": {
        "id": "J3csClRbDPoV"
      },
      "source": [
        "producers = []\n",
        "Directors = []\n",
        "for i,crew in enumerate(data_copy['crew'].values):\n",
        "  for ele in crew:\n",
        "    #print(type(ele))\n",
        "    if ele['job'] == 'Producer':\n",
        "      producers.append((i,ele['name']))\n",
        "    if ele['job'] == 'Director':\n",
        "      Directors.append((i,ele['name']))\n",
        "    else:\n",
        "      pass"
      ],
      "execution_count": 140,
      "outputs": []
    },
    {
      "cell_type": "code",
      "metadata": {
        "colab": {
          "base_uri": "https://localhost:8080/"
        },
        "id": "FLocEMuqDiWD",
        "outputId": "ec262d51-a739-45bc-94d2-efda7d0031d4"
      },
      "source": [
        "producers[0:5]"
      ],
      "execution_count": 141,
      "outputs": [
        {
          "output_type": "execute_result",
          "data": {
            "text/plain": [
              "[(0, 'Andrew Panay'),\n",
              " (1, 'Whitney Houston'),\n",
              " (1, 'Mario Iscovich'),\n",
              " (1, 'Debra Martin Chase'),\n",
              " (2, 'David Lancaster')]"
            ]
          },
          "metadata": {},
          "execution_count": 141
        }
      ]
    },
    {
      "cell_type": "code",
      "metadata": {
        "colab": {
          "base_uri": "https://localhost:8080/"
        },
        "id": "_eiUKURZG0qn",
        "outputId": "832579f0-020c-4156-fdf0-4cf17db05c5c"
      },
      "source": [
        "actors = []\n",
        "for i,cast in enumerate(data_copy['cast'].values):\n",
        "  for ele in cast:\n",
        "    actors.append((i,ele['name']))\n",
        "\n",
        "actors[0:5]"
      ],
      "execution_count": 142,
      "outputs": [
        {
          "output_type": "execute_result",
          "data": {
            "text/plain": [
              "[(0, 'Rob Corddry'),\n",
              " (0, 'Craig Robinson'),\n",
              " (0, 'Clark Duke'),\n",
              " (0, 'Adam Scott'),\n",
              " (0, 'Chevy Chase')]"
            ]
          },
          "metadata": {},
          "execution_count": 142
        }
      ]
    },
    {
      "cell_type": "code",
      "metadata": {
        "id": "jO5mzYxHKYB3"
      },
      "source": [
        "max_profit_indx = data_copy['profit'].idxmax()"
      ],
      "execution_count": 143,
      "outputs": []
    },
    {
      "cell_type": "code",
      "metadata": {
        "colab": {
          "base_uri": "https://localhost:8080/"
        },
        "id": "kq3r93g8IP-C",
        "outputId": "f0481cd6-64fc-4381-f3ff-99a884725847"
      },
      "source": [
        "print('Highest grossing movie :',data_copy['original_title'].loc[max_profit_indx])"
      ],
      "execution_count": 144,
      "outputs": [
        {
          "output_type": "stream",
          "text": [
            "Highest grossing movie : Furious 7\n"
          ],
          "name": "stdout"
        }
      ]
    },
    {
      "cell_type": "code",
      "metadata": {
        "colab": {
          "base_uri": "https://localhost:8080/"
        },
        "id": "EEjVztdBI0b3",
        "outputId": "f17daea7-4b3e-482b-ea17-9fb48d282cb9"
      },
      "source": [
        "producer = []\n",
        "for prod in producers:\n",
        "  if prod[0] == max_profit_indx:\n",
        "    producer.append(prod[1])\n",
        "print('The list of producers for the film are : ', producer)"
      ],
      "execution_count": 145,
      "outputs": [
        {
          "output_type": "stream",
          "text": [
            "The list of producers for the film are :  ['Paula Weinstein', 'Allison Abbate', 'Joel Simon', 'Bernie Goldmann', 'Christopher DeFaria']\n"
          ],
          "name": "stdout"
        }
      ]
    },
    {
      "cell_type": "code",
      "metadata": {
        "colab": {
          "base_uri": "https://localhost:8080/"
        },
        "id": "IBPMiQOcJ5LY",
        "outputId": "e1b2e62f-9360-4e28-e590-c275cb0e74b0"
      },
      "source": [
        "actor = []\n",
        "for prod in actors:\n",
        "  if prod[0] == max_profit_indx:\n",
        "    actor.append(prod[1])\n",
        "print('The list of producers for the film are : ', actor)"
      ],
      "execution_count": 146,
      "outputs": [
        {
          "output_type": "stream",
          "text": [
            "The list of producers for the film are :  ['Brendan Fraser', 'Jenna Elfman', 'Steve Martin', 'Timothy Dalton', 'Heather Locklear', 'Joan Cusack', 'Marc Lawrence', 'Robert Picardo', 'Ron Perlman', 'Bill Goldberg', 'Don Stanton', 'Dan Stanton', 'Dick Miller', 'Roger Corman', 'Kevin McCarthy', 'Matthew Lillard', 'Mary Woronov', 'Bill McKinney', 'George Murdock', 'Vernon Wells', 'Leo Rossi', 'Archie Hahn', 'Allan Graf', 'Joe Alaskey', 'Jeff Bennett', 'Billy West', 'Eric Goldberg', 'Casey Kasem', 'Frank Welker', 'Austyn Cuccia', 'Marie-Claude Jacques', 'Michael Azria', 'Dan Romanelli', \"Ryan O'Dell\", 'Tara Wilson', 'Tanee McCall', 'Gelsey Weiss', 'Brenda Mae Hamilton', 'Liz Ramos', 'Emily Rose Zachary', 'Becca Sweitzer', 'Janina Garraway', 'Alysha Wheeler', 'Micki Duran', 'Chi Johnson', 'Chi Johnson', 'Shealan Spencer', 'Shanti Lowry', 'Brandon Henschel', 'Erica Gudis', 'John Munro Cameron', 'Peter Graves', 'Glen Hambly', 'Louis Kiss', 'Nikki Martin', 'Laura Orrico', 'Robert Parigi', 'Dean Ricca']\n"
          ],
          "name": "stdout"
        }
      ]
    },
    {
      "cell_type": "code",
      "metadata": {
        "id": "Q1ttUGmKKLTO"
      },
      "source": [
        ""
      ],
      "execution_count": null,
      "outputs": []
    },
    {
      "cell_type": "markdown",
      "metadata": {
        "id": "fOed19sxLVw9"
      },
      "source": [
        "2. ### <b>This data has information about movies made in different languages. Which language has the highest average ROI (return on investment)? </b>"
      ]
    },
    {
      "cell_type": "code",
      "metadata": {
        "id": "mhCcvxmbLWP-"
      },
      "source": [
        "max_roi_indx = data_copy['roi'].idxmax()"
      ],
      "execution_count": 147,
      "outputs": []
    },
    {
      "cell_type": "code",
      "metadata": {
        "colab": {
          "base_uri": "https://localhost:8080/"
        },
        "id": "jOn0daw5Lc71",
        "outputId": "9b04fdd0-08c3-44ae-c5e1-1970465b1c58"
      },
      "source": [
        "\n",
        "print('The language in which the highes ROI movie made is  : ', data_copy['original_language'].iloc[max_roi_indx])"
      ],
      "execution_count": 150,
      "outputs": [
        {
          "output_type": "stream",
          "text": [
            "The language in which the highes ROI movie made is  :  en\n"
          ],
          "name": "stdout"
        }
      ]
    },
    {
      "cell_type": "code",
      "metadata": {
        "id": "FFAkJM8hLowv"
      },
      "source": [
        ""
      ],
      "execution_count": null,
      "outputs": []
    },
    {
      "cell_type": "markdown",
      "metadata": {
        "id": "kqb4H7C3L9mm"
      },
      "source": [
        "3. ### <b> Find out the unique genres of movies in this dataset.</b>"
      ]
    },
    {
      "cell_type": "code",
      "metadata": {
        "colab": {
          "base_uri": "https://localhost:8080/"
        },
        "id": "Z_rfVbUNL-Ac",
        "outputId": "d9a71a7a-9dc7-4c9f-89cf-cfbdf1c36190"
      },
      "source": [
        "genres = set([i[0]['name'] for i in data_copy['genres'].values])\n",
        "print('The Unique Genres of movies in the dataset are : ','\\n', genres)"
      ],
      "execution_count": 158,
      "outputs": [
        {
          "output_type": "stream",
          "text": [
            "The Unique Genres of movies in the dataset are :  \n",
            " {'Crime', 'Family', 'Romance', 'Drama', 'Horror', 'War', 'Action', 'Fantasy', 'Western', 'Music', 'Comedy', 'History', 'Thriller', 'Animation', 'TV Movie', 'Mystery', 'Science Fiction', 'Foreign', 'Documentary', 'Adventure'}\n"
          ],
          "name": "stdout"
        }
      ]
    },
    {
      "cell_type": "markdown",
      "metadata": {
        "id": "yRS-jdPwMw8O"
      },
      "source": [
        "4. ### <b> Make a table of all the producers and directors of each movie. Find the top 3 producers who have produced movies with the highest average RoI? </b>"
      ]
    },
    {
      "cell_type": "code",
      "metadata": {
        "id": "vAZT2QZbN4yQ"
      },
      "source": [
        "pr = []\n",
        "m = []\n",
        "r = []\n",
        "for i, mov in enumerate(data_copy['crew'].values):\n",
        "  for ele in mov:\n",
        "    if ele['job'] == 'Producer':\n",
        "      pr.append(ele['name'])\n",
        "      m.append(data_copy['original_title'].iloc[i])\n",
        "      r.append(data_copy['roi'].iloc[i])\n",
        "\n",
        "\n",
        "assert (len(pr)==len(m)) and (len(m)==len(r)) , 'Some error occured!'\n",
        "  \n"
      ],
      "execution_count": 172,
      "outputs": []
    },
    {
      "cell_type": "code",
      "metadata": {
        "colab": {
          "base_uri": "https://localhost:8080/",
          "height": 417
        },
        "id": "Csi35LGDQCnw",
        "outputId": "e5d5ffd7-6021-4220-fa72-2c536d26fa34"
      },
      "source": [
        "new_df = pd.DataFrame({'Movies':m , 'Producers' : pr , 'ROI' : r})\n",
        "new_df"
      ],
      "execution_count": 195,
      "outputs": [
        {
          "output_type": "execute_result",
          "data": {
            "text/html": [
              "<div>\n",
              "<style scoped>\n",
              "    .dataframe tbody tr th:only-of-type {\n",
              "        vertical-align: middle;\n",
              "    }\n",
              "\n",
              "    .dataframe tbody tr th {\n",
              "        vertical-align: top;\n",
              "    }\n",
              "\n",
              "    .dataframe thead th {\n",
              "        text-align: right;\n",
              "    }\n",
              "</style>\n",
              "<table border=\"1\" class=\"dataframe\">\n",
              "  <thead>\n",
              "    <tr style=\"text-align: right;\">\n",
              "      <th></th>\n",
              "      <th>Movies</th>\n",
              "      <th>Producers</th>\n",
              "      <th>ROI</th>\n",
              "    </tr>\n",
              "  </thead>\n",
              "  <tbody>\n",
              "    <tr>\n",
              "      <th>0</th>\n",
              "      <td>Hot Tub Time Machine 2</td>\n",
              "      <td>Andrew Panay</td>\n",
              "      <td>-12.038207</td>\n",
              "    </tr>\n",
              "    <tr>\n",
              "      <th>1</th>\n",
              "      <td>The Princess Diaries 2: Royal Engagement</td>\n",
              "      <td>Whitney Houston</td>\n",
              "      <td>137.873588</td>\n",
              "    </tr>\n",
              "    <tr>\n",
              "      <th>2</th>\n",
              "      <td>The Princess Diaries 2: Royal Engagement</td>\n",
              "      <td>Mario Iscovich</td>\n",
              "      <td>137.873588</td>\n",
              "    </tr>\n",
              "    <tr>\n",
              "      <th>3</th>\n",
              "      <td>The Princess Diaries 2: Royal Engagement</td>\n",
              "      <td>Debra Martin Chase</td>\n",
              "      <td>137.873588</td>\n",
              "    </tr>\n",
              "    <tr>\n",
              "      <th>4</th>\n",
              "      <td>Whiplash</td>\n",
              "      <td>David Lancaster</td>\n",
              "      <td>296.727273</td>\n",
              "    </tr>\n",
              "    <tr>\n",
              "      <th>...</th>\n",
              "      <td>...</td>\n",
              "      <td>...</td>\n",
              "      <td>...</td>\n",
              "    </tr>\n",
              "    <tr>\n",
              "      <th>5924</th>\n",
              "      <td>Abduction</td>\n",
              "      <td>Doug Davison</td>\n",
              "      <td>134.534729</td>\n",
              "    </tr>\n",
              "    <tr>\n",
              "      <th>5925</th>\n",
              "      <td>Abduction</td>\n",
              "      <td>Roy Lee</td>\n",
              "      <td>134.534729</td>\n",
              "    </tr>\n",
              "    <tr>\n",
              "      <th>5926</th>\n",
              "      <td>Abduction</td>\n",
              "      <td>Ellen Goldsmith-Vein</td>\n",
              "      <td>134.534729</td>\n",
              "    </tr>\n",
              "    <tr>\n",
              "      <th>5927</th>\n",
              "      <td>Abduction</td>\n",
              "      <td>Dan Lautner</td>\n",
              "      <td>134.534729</td>\n",
              "    </tr>\n",
              "    <tr>\n",
              "      <th>5928</th>\n",
              "      <td>Abduction</td>\n",
              "      <td>Lee Stollman</td>\n",
              "      <td>134.534729</td>\n",
              "    </tr>\n",
              "  </tbody>\n",
              "</table>\n",
              "<p>5929 rows × 3 columns</p>\n",
              "</div>"
            ],
            "text/plain": [
              "                                        Movies  ...         ROI\n",
              "0                       Hot Tub Time Machine 2  ...  -12.038207\n",
              "1     The Princess Diaries 2: Royal Engagement  ...  137.873588\n",
              "2     The Princess Diaries 2: Royal Engagement  ...  137.873588\n",
              "3     The Princess Diaries 2: Royal Engagement  ...  137.873588\n",
              "4                                     Whiplash  ...  296.727273\n",
              "...                                        ...  ...         ...\n",
              "5924                                 Abduction  ...  134.534729\n",
              "5925                                 Abduction  ...  134.534729\n",
              "5926                                 Abduction  ...  134.534729\n",
              "5927                                 Abduction  ...  134.534729\n",
              "5928                                 Abduction  ...  134.534729\n",
              "\n",
              "[5929 rows x 3 columns]"
            ]
          },
          "metadata": {},
          "execution_count": 195
        }
      ]
    },
    {
      "cell_type": "code",
      "metadata": {
        "colab": {
          "base_uri": "https://localhost:8080/",
          "height": 172
        },
        "id": "PEjuwikFQUcU",
        "outputId": "b278aa32-62f8-4e5c-ba52-e3654f94aa26"
      },
      "source": [
        "new_grouped_df = pd.DataFrame(new_df.groupby('Producers')['ROI'].mean()).sort_values('ROI', ascending=False).head(3)\n",
        "new_grouped_df"
      ],
      "execution_count": 197,
      "outputs": [
        {
          "output_type": "execute_result",
          "data": {
            "text/html": [
              "<div>\n",
              "<style scoped>\n",
              "    .dataframe tbody tr th:only-of-type {\n",
              "        vertical-align: middle;\n",
              "    }\n",
              "\n",
              "    .dataframe tbody tr th {\n",
              "        vertical-align: top;\n",
              "    }\n",
              "\n",
              "    .dataframe thead th {\n",
              "        text-align: right;\n",
              "    }\n",
              "</style>\n",
              "<table border=\"1\" class=\"dataframe\">\n",
              "  <thead>\n",
              "    <tr style=\"text-align: right;\">\n",
              "      <th></th>\n",
              "      <th>ROI</th>\n",
              "    </tr>\n",
              "    <tr>\n",
              "      <th>Producers</th>\n",
              "      <th></th>\n",
              "    </tr>\n",
              "  </thead>\n",
              "  <tbody>\n",
              "    <tr>\n",
              "      <th>Amir Zbeda</th>\n",
              "      <td>1.288939e+06</td>\n",
              "    </tr>\n",
              "    <tr>\n",
              "      <th>Robin Cowie</th>\n",
              "      <td>4.132333e+05</td>\n",
              "    </tr>\n",
              "    <tr>\n",
              "      <th>Gregg Hale</th>\n",
              "      <td>4.132333e+05</td>\n",
              "    </tr>\n",
              "  </tbody>\n",
              "</table>\n",
              "</div>"
            ],
            "text/plain": [
              "                      ROI\n",
              "Producers                \n",
              "Amir Zbeda   1.288939e+06\n",
              "Robin Cowie  4.132333e+05\n",
              "Gregg Hale   4.132333e+05"
            ]
          },
          "metadata": {},
          "execution_count": 197
        }
      ]
    },
    {
      "cell_type": "code",
      "metadata": {
        "colab": {
          "base_uri": "https://localhost:8080/",
          "height": 49
        },
        "id": "G71nsJN2Rvdv",
        "outputId": "98204d46-9060-43c5-b612-6a8d0deb7a22"
      },
      "source": [
        "new_grouped_df"
      ],
      "execution_count": 191,
      "outputs": [
        {
          "output_type": "execute_result",
          "data": {
            "text/html": [
              "<div>\n",
              "<style scoped>\n",
              "    .dataframe tbody tr th:only-of-type {\n",
              "        vertical-align: middle;\n",
              "    }\n",
              "\n",
              "    .dataframe tbody tr th {\n",
              "        vertical-align: top;\n",
              "    }\n",
              "\n",
              "    .dataframe thead th {\n",
              "        text-align: right;\n",
              "    }\n",
              "</style>\n",
              "<table border=\"1\" class=\"dataframe\">\n",
              "  <thead>\n",
              "    <tr style=\"text-align: right;\">\n",
              "      <th></th>\n",
              "      <th>Producers</th>\n",
              "      <th>Total mean ROI</th>\n",
              "    </tr>\n",
              "  </thead>\n",
              "  <tbody>\n",
              "  </tbody>\n",
              "</table>\n",
              "</div>"
            ],
            "text/plain": [
              "Empty DataFrame\n",
              "Columns: [Producers, Total mean ROI]\n",
              "Index: []"
            ]
          },
          "metadata": {},
          "execution_count": 191
        }
      ]
    },
    {
      "cell_type": "code",
      "metadata": {
        "id": "qnV7sIVOS8cv"
      },
      "source": [
        ""
      ],
      "execution_count": null,
      "outputs": []
    },
    {
      "cell_type": "markdown",
      "metadata": {
        "id": "cqGxO7ZBTBMw"
      },
      "source": [
        "5. ### <b> Which actor has acted in the most number of movies? Deep dive into the movies, genres and profits corresponding to this actor. </b>\n",
        "6. ### <b>Top 3 directors prefer which actors the most? </b>"
      ]
    },
    {
      "cell_type": "code",
      "metadata": {
        "id": "lG2daTaTTBw7"
      },
      "source": [
        "ac = []\n",
        "m = []\n",
        "prof = []\n",
        "gen = []\n",
        "for i, mov in enumerate(data_copy['cast'].values):\n",
        "  for ele in mov:\n",
        "    ac.append(ele['name'])\n",
        "    gen.append(data_copy['genres'].iloc[i][0]['name'])\n",
        "    prof.append(data_copy['profit'].iloc[i])\n",
        "    m.append(data_copy['original_title'].iloc[i])\n",
        "\n",
        "\n",
        "assert (len(prof)==len(m)) and (len(m)==len(ac)) and (len(ac)==len(gen)) , 'Some error occured!'\n",
        "  \n"
      ],
      "execution_count": 200,
      "outputs": []
    },
    {
      "cell_type": "code",
      "metadata": {
        "colab": {
          "base_uri": "https://localhost:8080/",
          "height": 417
        },
        "id": "v_9J6ZOaVwDd",
        "outputId": "4c197134-ab61-4074-953f-84b11e8698c6"
      },
      "source": [
        "new_df_actor = pd.DataFrame({'Movies':m , 'genres': gen, 'Actors' : ac , 'profit' : prof})\n",
        "new_df_actor"
      ],
      "execution_count": 202,
      "outputs": [
        {
          "output_type": "execute_result",
          "data": {
            "text/html": [
              "<div>\n",
              "<style scoped>\n",
              "    .dataframe tbody tr th:only-of-type {\n",
              "        vertical-align: middle;\n",
              "    }\n",
              "\n",
              "    .dataframe tbody tr th {\n",
              "        vertical-align: top;\n",
              "    }\n",
              "\n",
              "    .dataframe thead th {\n",
              "        text-align: right;\n",
              "    }\n",
              "</style>\n",
              "<table border=\"1\" class=\"dataframe\">\n",
              "  <thead>\n",
              "    <tr style=\"text-align: right;\">\n",
              "      <th></th>\n",
              "      <th>Movies</th>\n",
              "      <th>genres</th>\n",
              "      <th>Actors</th>\n",
              "      <th>profit</th>\n",
              "    </tr>\n",
              "  </thead>\n",
              "  <tbody>\n",
              "    <tr>\n",
              "      <th>0</th>\n",
              "      <td>Hot Tub Time Machine 2</td>\n",
              "      <td>Comedy</td>\n",
              "      <td>Rob Corddry</td>\n",
              "      <td>-1685349</td>\n",
              "    </tr>\n",
              "    <tr>\n",
              "      <th>1</th>\n",
              "      <td>Hot Tub Time Machine 2</td>\n",
              "      <td>Comedy</td>\n",
              "      <td>Craig Robinson</td>\n",
              "      <td>-1685349</td>\n",
              "    </tr>\n",
              "    <tr>\n",
              "      <th>2</th>\n",
              "      <td>Hot Tub Time Machine 2</td>\n",
              "      <td>Comedy</td>\n",
              "      <td>Clark Duke</td>\n",
              "      <td>-1685349</td>\n",
              "    </tr>\n",
              "    <tr>\n",
              "      <th>3</th>\n",
              "      <td>Hot Tub Time Machine 2</td>\n",
              "      <td>Comedy</td>\n",
              "      <td>Adam Scott</td>\n",
              "      <td>-1685349</td>\n",
              "    </tr>\n",
              "    <tr>\n",
              "      <th>4</th>\n",
              "      <td>Hot Tub Time Machine 2</td>\n",
              "      <td>Comedy</td>\n",
              "      <td>Chevy Chase</td>\n",
              "      <td>-1685349</td>\n",
              "    </tr>\n",
              "    <tr>\n",
              "      <th>...</th>\n",
              "      <td>...</td>\n",
              "      <td>...</td>\n",
              "      <td>...</td>\n",
              "      <td>...</td>\n",
              "    </tr>\n",
              "    <tr>\n",
              "      <th>60454</th>\n",
              "      <td>Abduction</td>\n",
              "      <td>Thriller</td>\n",
              "      <td>Jack Erdie</td>\n",
              "      <td>47087155</td>\n",
              "    </tr>\n",
              "    <tr>\n",
              "      <th>60455</th>\n",
              "      <td>Abduction</td>\n",
              "      <td>Thriller</td>\n",
              "      <td>Steve Blass</td>\n",
              "      <td>47087155</td>\n",
              "    </tr>\n",
              "    <tr>\n",
              "      <th>60456</th>\n",
              "      <td>Abduction</td>\n",
              "      <td>Thriller</td>\n",
              "      <td>Derek Burnell</td>\n",
              "      <td>47087155</td>\n",
              "    </tr>\n",
              "    <tr>\n",
              "      <th>60457</th>\n",
              "      <td>Abduction</td>\n",
              "      <td>Thriller</td>\n",
              "      <td>Tiffany Sander McKenzie</td>\n",
              "      <td>47087155</td>\n",
              "    </tr>\n",
              "    <tr>\n",
              "      <th>60458</th>\n",
              "      <td>Abduction</td>\n",
              "      <td>Thriller</td>\n",
              "      <td>Joanna Theobalds</td>\n",
              "      <td>47087155</td>\n",
              "    </tr>\n",
              "  </tbody>\n",
              "</table>\n",
              "<p>60459 rows × 4 columns</p>\n",
              "</div>"
            ],
            "text/plain": [
              "                       Movies    genres                   Actors    profit\n",
              "0      Hot Tub Time Machine 2    Comedy              Rob Corddry  -1685349\n",
              "1      Hot Tub Time Machine 2    Comedy           Craig Robinson  -1685349\n",
              "2      Hot Tub Time Machine 2    Comedy               Clark Duke  -1685349\n",
              "3      Hot Tub Time Machine 2    Comedy               Adam Scott  -1685349\n",
              "4      Hot Tub Time Machine 2    Comedy              Chevy Chase  -1685349\n",
              "...                       ...       ...                      ...       ...\n",
              "60454               Abduction  Thriller               Jack Erdie  47087155\n",
              "60455               Abduction  Thriller              Steve Blass  47087155\n",
              "60456               Abduction  Thriller            Derek Burnell  47087155\n",
              "60457               Abduction  Thriller  Tiffany Sander McKenzie  47087155\n",
              "60458               Abduction  Thriller         Joanna Theobalds  47087155\n",
              "\n",
              "[60459 rows x 4 columns]"
            ]
          },
          "metadata": {},
          "execution_count": 202
        }
      ]
    },
    {
      "cell_type": "code",
      "metadata": {
        "colab": {
          "base_uri": "https://localhost:8080/"
        },
        "id": "ceWv6IxXWPJd",
        "outputId": "0d494371-2169-41cc-fd8d-f734ffafeba7"
      },
      "source": [
        "print('The actor who acted in most movies : ',new_df_actor['Actors'].value_counts().idxmax())\n",
        "print('Maximum number of movies acted by the actor who acted in most movies : ',new_df_actor['Actors'].value_counts().max())"
      ],
      "execution_count": 207,
      "outputs": [
        {
          "output_type": "stream",
          "text": [
            "The actor who acted in most movies :  Samuel L. Jackson\n",
            "Maximum number of movies acted by the actor who acted in most movies :  30\n"
          ],
          "name": "stdout"
        }
      ]
    },
    {
      "cell_type": "code",
      "metadata": {
        "colab": {
          "base_uri": "https://localhost:8080/"
        },
        "id": "OGN1WmX1XP0A",
        "outputId": "3ffadc4a-8b67-4676-8238-c3b97a679488"
      },
      "source": [
        "profit_by_most_acted_actor = new_df_actor['profit'][new_df_actor['Actors']=='Samuel L. Jackson'].sum()\n",
        "print('Average profits earned by the movies of the most acted actor : ', profit_by_most_acted_actor/30)"
      ],
      "execution_count": 211,
      "outputs": [
        {
          "output_type": "stream",
          "text": [
            "Average profits earned by the movies of the most acted actor :  225176722.33333334\n"
          ],
          "name": "stdout"
        }
      ]
    },
    {
      "cell_type": "code",
      "metadata": {
        "id": "DdYwMI5wYKhV"
      },
      "source": [
        "sub_df = new_df_actor[['Movies','profit']][new_df_actor['Actors']=='Samuel L. Jackson']"
      ],
      "execution_count": 214,
      "outputs": []
    },
    {
      "cell_type": "code",
      "metadata": {
        "colab": {
          "base_uri": "https://localhost:8080/"
        },
        "id": "grslebJvY1HN",
        "outputId": "45b805a4-48d6-43b5-ddfa-a6db2cc094a6"
      },
      "source": [
        "print('Most profitable movie : ',sub_df['Movies'].loc[sub_df['profit'].idxmax()])"
      ],
      "execution_count": 221,
      "outputs": [
        {
          "output_type": "stream",
          "text": [
            "Most profitable movie :  The Avengers\n"
          ],
          "name": "stdout"
        }
      ]
    },
    {
      "cell_type": "code",
      "metadata": {
        "colab": {
          "base_uri": "https://localhost:8080/"
        },
        "id": "3iJHlh91ZJoC",
        "outputId": "6a6d3d45-c8d1-43a4-fee8-d7ec19e1c3ad"
      },
      "source": [
        "print('Most profit on a single movie : ',sub_df['profit'].max())"
      ],
      "execution_count": 223,
      "outputs": [
        {
          "output_type": "stream",
          "text": [
            "Most profit on a single movie :  1299557910\n"
          ],
          "name": "stdout"
        }
      ]
    },
    {
      "cell_type": "code",
      "metadata": {
        "id": "wTFqchNSZiSU"
      },
      "source": [
        "ac = []\n",
        "m = []\n",
        "prof = []\n",
        "gen = []\n",
        "for i, mov in enumerate(data_copy['cast'].values):\n",
        "  for ele in mov:\n",
        "    ac.append(ele['name'])\n",
        "    gen.append(data_copy['genres'].iloc[i][0]['name'])\n",
        "    prof.append(data_copy['profit'].iloc[i])\n",
        "    m.append(data_copy['original_title'].iloc[i])\n",
        "\n",
        "\n",
        "assert (len(prof)==len(m)) and (len(m)==len(ac)) and (len(ac)==len(gen)) , 'Some error occured!'\n",
        "  "
      ],
      "execution_count": null,
      "outputs": []
    }
  ]
}